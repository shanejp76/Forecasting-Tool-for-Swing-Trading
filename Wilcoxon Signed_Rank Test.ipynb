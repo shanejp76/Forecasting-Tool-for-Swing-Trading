{
 "cells": [
  {
   "cell_type": "code",
   "execution_count": 1,
   "metadata": {},
   "outputs": [],
   "source": [
    "import pandas as pd"
   ]
  },
  {
   "cell_type": "code",
   "execution_count": 2,
   "metadata": {},
   "outputs": [],
   "source": [
    "smape_path = '/Users/shaneypeterson/Desktop/2025.02.24 - Data Science Work/combined_model_smape.csv'"
   ]
  },
  {
   "cell_type": "code",
   "execution_count": 3,
   "metadata": {},
   "outputs": [
    {
     "data": {
      "application/vnd.microsoft.datawrangler.viewer.v0+json": {
       "columns": [
        {
         "name": "index",
         "rawType": "int64",
         "type": "integer"
        },
        {
         "name": "ticker",
         "rawType": "object",
         "type": "string"
        },
        {
         "name": "volatility",
         "rawType": "object",
         "type": "string"
        },
        {
         "name": "avg_price",
         "rawType": "float64",
         "type": "float"
        },
        {
         "name": "len",
         "rawType": "int64",
         "type": "integer"
        },
        {
         "name": "naive_smape",
         "rawType": "float64",
         "type": "float"
        },
        {
         "name": "smape_standard",
         "rawType": "float64",
         "type": "float"
        },
        {
         "name": "smape_tuned",
         "rawType": "float64",
         "type": "float"
        },
        {
         "name": "winsorized_pct",
         "rawType": "float64",
         "type": "float"
        }
       ],
       "conversionMethod": "pd.DataFrame",
       "ref": "785531f2-2cb0-43cc-bacf-3cb4473ed716",
       "rows": [
        [
         "0",
         "WPP",
         "Medium",
         "32.1363547602546",
         "9355",
         "4.883489842127663",
         "0.2705780561044689",
         "0.075832581214297",
         "0.3647247461250668"
        ],
        [
         "1",
         "CVGW",
         "Medium",
         "31.07178706682981",
         "5681",
         "4.16005772163431",
         "0.1627373608887741",
         "0.1638857082253768",
         "0.3633163175497271"
        ],
        [
         "2",
         "DFH",
         "Medium",
         "22.14551804189225",
         "1023",
         "5.8489167215806415",
         "0.3057002174302118",
         "0.239104546429345",
         "0.418377321603128"
        ],
        [
         "3",
         "RCEL",
         "Medium-High",
         "13.289236526096971",
         "3209",
         "5.655528679061109",
         "0.9155787417765432",
         "0.6273267758867564",
         "0.2670613898410719"
        ],
        [
         "4",
         "C",
         "Medium-Low",
         "79.32624770995221",
         "12132",
         "29.47586259421219",
         "0.3257516748517217",
         "0.2418180963564726",
         "0.368034948895483"
        ]
       ],
       "shape": {
        "columns": 8,
        "rows": 5
       }
      },
      "text/html": [
       "<div>\n",
       "<style scoped>\n",
       "    .dataframe tbody tr th:only-of-type {\n",
       "        vertical-align: middle;\n",
       "    }\n",
       "\n",
       "    .dataframe tbody tr th {\n",
       "        vertical-align: top;\n",
       "    }\n",
       "\n",
       "    .dataframe thead th {\n",
       "        text-align: right;\n",
       "    }\n",
       "</style>\n",
       "<table border=\"1\" class=\"dataframe\">\n",
       "  <thead>\n",
       "    <tr style=\"text-align: right;\">\n",
       "      <th></th>\n",
       "      <th>ticker</th>\n",
       "      <th>volatility</th>\n",
       "      <th>avg_price</th>\n",
       "      <th>len</th>\n",
       "      <th>naive_smape</th>\n",
       "      <th>smape_standard</th>\n",
       "      <th>smape_tuned</th>\n",
       "      <th>winsorized_pct</th>\n",
       "    </tr>\n",
       "  </thead>\n",
       "  <tbody>\n",
       "    <tr>\n",
       "      <th>0</th>\n",
       "      <td>WPP</td>\n",
       "      <td>Medium</td>\n",
       "      <td>32.136355</td>\n",
       "      <td>9355</td>\n",
       "      <td>4.883490</td>\n",
       "      <td>0.270578</td>\n",
       "      <td>0.075833</td>\n",
       "      <td>0.364725</td>\n",
       "    </tr>\n",
       "    <tr>\n",
       "      <th>1</th>\n",
       "      <td>CVGW</td>\n",
       "      <td>Medium</td>\n",
       "      <td>31.071787</td>\n",
       "      <td>5681</td>\n",
       "      <td>4.160058</td>\n",
       "      <td>0.162737</td>\n",
       "      <td>0.163886</td>\n",
       "      <td>0.363316</td>\n",
       "    </tr>\n",
       "    <tr>\n",
       "      <th>2</th>\n",
       "      <td>DFH</td>\n",
       "      <td>Medium</td>\n",
       "      <td>22.145518</td>\n",
       "      <td>1023</td>\n",
       "      <td>5.848917</td>\n",
       "      <td>0.305700</td>\n",
       "      <td>0.239105</td>\n",
       "      <td>0.418377</td>\n",
       "    </tr>\n",
       "    <tr>\n",
       "      <th>3</th>\n",
       "      <td>RCEL</td>\n",
       "      <td>Medium-High</td>\n",
       "      <td>13.289237</td>\n",
       "      <td>3209</td>\n",
       "      <td>5.655529</td>\n",
       "      <td>0.915579</td>\n",
       "      <td>0.627327</td>\n",
       "      <td>0.267061</td>\n",
       "    </tr>\n",
       "    <tr>\n",
       "      <th>4</th>\n",
       "      <td>C</td>\n",
       "      <td>Medium-Low</td>\n",
       "      <td>79.326248</td>\n",
       "      <td>12132</td>\n",
       "      <td>29.475863</td>\n",
       "      <td>0.325752</td>\n",
       "      <td>0.241818</td>\n",
       "      <td>0.368035</td>\n",
       "    </tr>\n",
       "  </tbody>\n",
       "</table>\n",
       "</div>"
      ],
      "text/plain": [
       "  ticker   volatility  avg_price    len  naive_smape  smape_standard  \\\n",
       "0    WPP       Medium  32.136355   9355     4.883490        0.270578   \n",
       "1   CVGW       Medium  31.071787   5681     4.160058        0.162737   \n",
       "2    DFH       Medium  22.145518   1023     5.848917        0.305700   \n",
       "3   RCEL  Medium-High  13.289237   3209     5.655529        0.915579   \n",
       "4      C   Medium-Low  79.326248  12132    29.475863        0.325752   \n",
       "\n",
       "   smape_tuned  winsorized_pct  \n",
       "0     0.075833        0.364725  \n",
       "1     0.163886        0.363316  \n",
       "2     0.239105        0.418377  \n",
       "3     0.627327        0.267061  \n",
       "4     0.241818        0.368035  "
      ]
     },
     "execution_count": 3,
     "metadata": {},
     "output_type": "execute_result"
    }
   ],
   "source": [
    "df = pd.read_csv(smape_path)\n",
    "df.head()"
   ]
  },
  {
   "cell_type": "markdown",
   "metadata": {},
   "source": [
    "Perform Wilcoxon Signed-Rank Test"
   ]
  },
  {
   "cell_type": "code",
   "execution_count": 6,
   "metadata": {},
   "outputs": [],
   "source": [
    "import numpy as np\n",
    "from scipy.stats import wilcoxon"
   ]
  },
  {
   "cell_type": "code",
   "execution_count": 7,
   "metadata": {},
   "outputs": [
    {
     "name": "stdout",
     "output_type": "stream",
     "text": [
      "Wilcoxon Test Statistic (W): 1119.0\n",
      "P-value: 2.4913412442194815e-17\n",
      "The difference in SMAPE is statistically significant.\n"
     ]
    }
   ],
   "source": [
    "# get smape delta between baseline prophet model and tuned model\n",
    "\n",
    "differences = df.smape_standard - df.smape_tuned\n",
    "W, p_value = wilcoxon(differences)\n",
    "\n",
    "print(\"Wilcoxon Test Statistic (W):\", W)\n",
    "print(\"P-value:\", p_value)\n",
    "\n",
    "alpha = 0.05  # Significance level\n",
    "if p_value < alpha:\n",
    "    print(\"The difference in SMAPE is statistically significant.\")\n",
    "else:\n",
    "    print(\"The difference in SMAPE is not statistically significant.\")"
   ]
  },
  {
   "cell_type": "code",
   "execution_count": 8,
   "metadata": {},
   "outputs": [],
   "source": [
    "# Perform Cliff's Delta test\n",
    "\n",
    "def cliffs_delta_wilcoxon(data1, data2):\n",
    "    \"\"\"Calculates Cliff's Delta for paired data (Wilcoxon).\n",
    "\n",
    "    Args:\n",
    "        data1: NumPy array or list of SMAPE values for the first model.\n",
    "        data2: NumPy array or list of SMAPE values for the second model.\n",
    "\n",
    "    Returns:\n",
    "        Cliff's Delta (d).\n",
    "    \"\"\"\n",
    "\n",
    "    differences = np.array(data1) - np.array(data2)\n",
    "    count_pos = np.sum(differences > 0)\n",
    "    count_neg = np.sum(differences < 0)\n",
    "    n = len(differences)\n",
    "    return (count_pos - count_neg) / n"
   ]
  },
  {
   "cell_type": "code",
   "execution_count": 9,
   "metadata": {},
   "outputs": [
    {
     "name": "stdout",
     "output_type": "stream",
     "text": [
      "Cliff's Delta (d): 0.6866666666666666\n"
     ]
    }
   ],
   "source": [
    "d = cliffs_delta_wilcoxon(df.smape_standard, df.smape_tuned)\n",
    "print(\"Cliff's Delta (d):\", d)"
   ]
  },
  {
   "cell_type": "code",
   "execution_count": null,
   "metadata": {},
   "outputs": [],
   "source": []
  }
 ],
 "metadata": {
  "kernelspec": {
   "display_name": "venv",
   "language": "python",
   "name": "python3"
  },
  "language_info": {
   "codemirror_mode": {
    "name": "ipython",
    "version": 3
   },
   "file_extension": ".py",
   "mimetype": "text/x-python",
   "name": "python",
   "nbconvert_exporter": "python",
   "pygments_lexer": "ipython3",
   "version": "3.13.0"
  }
 },
 "nbformat": 4,
 "nbformat_minor": 2
}

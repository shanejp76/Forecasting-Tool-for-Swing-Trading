{
 "cells": [
  {
   "cell_type": "code",
   "execution_count": 4,
   "metadata": {},
   "outputs": [],
   "source": [
    "import pandas as pd"
   ]
  },
  {
   "cell_type": "code",
   "execution_count": 5,
   "metadata": {},
   "outputs": [],
   "source": [
    "combined_model_smape_path = '/Users/shaneypeterson/Desktop/2025.02.24 - Data Science Work/combined_model_smape.csv'"
   ]
  },
  {
   "cell_type": "code",
   "execution_count": 6,
   "metadata": {},
   "outputs": [],
   "source": [
    "df = pd.read_csv(combined_model_smape_path)"
   ]
  },
  {
   "cell_type": "code",
   "execution_count": 7,
   "metadata": {},
   "outputs": [
    {
     "name": "stdout",
     "output_type": "stream",
     "text": [
      "<class 'pandas.core.frame.DataFrame'>\n",
      "RangeIndex: 150 entries, 0 to 149\n",
      "Data columns (total 8 columns):\n",
      " #   Column          Non-Null Count  Dtype  \n",
      "---  ------          --------------  -----  \n",
      " 0   ticker          150 non-null    object \n",
      " 1   volatility      150 non-null    object \n",
      " 2   avg_price       150 non-null    float64\n",
      " 3   len             150 non-null    int64  \n",
      " 4   naive_smape     150 non-null    float64\n",
      " 5   smape_standard  150 non-null    float64\n",
      " 6   smape_tuned     150 non-null    float64\n",
      " 7   winsorized_pct  150 non-null    float64\n",
      "dtypes: float64(5), int64(1), object(2)\n",
      "memory usage: 9.5+ KB\n"
     ]
    }
   ],
   "source": [
    "df.info()"
   ]
  },
  {
   "cell_type": "code",
   "execution_count": 8,
   "metadata": {},
   "outputs": [
    {
     "data": {
      "application/vnd.microsoft.datawrangler.viewer.v0+json": {
       "columns": [
        {
         "name": "index",
         "rawType": "int64",
         "type": "integer"
        },
        {
         "name": "ticker",
         "rawType": "object",
         "type": "string"
        },
        {
         "name": "volatility",
         "rawType": "object",
         "type": "string"
        },
        {
         "name": "avg_price",
         "rawType": "float64",
         "type": "float"
        },
        {
         "name": "len",
         "rawType": "int64",
         "type": "integer"
        },
        {
         "name": "naive_smape",
         "rawType": "float64",
         "type": "float"
        },
        {
         "name": "smape_standard",
         "rawType": "float64",
         "type": "float"
        },
        {
         "name": "smape_tuned",
         "rawType": "float64",
         "type": "float"
        },
        {
         "name": "winsorized_pct",
         "rawType": "float64",
         "type": "float"
        }
       ],
       "conversionMethod": "pd.DataFrame",
       "ref": "e4760a24-1156-4b05-b650-d36c6003fad5",
       "rows": [
        [
         "0",
         "WPP",
         "Medium",
         "32.1363547602546",
         "9355",
         "4.883489842127663",
         "0.2705780561044689",
         "0.075832581214297",
         "0.3647247461250668"
        ],
        [
         "1",
         "CVGW",
         "Medium",
         "31.07178706682981",
         "5681",
         "4.16005772163431",
         "0.1627373608887741",
         "0.1638857082253768",
         "0.3633163175497271"
        ],
        [
         "2",
         "DFH",
         "Medium",
         "22.14551804189225",
         "1023",
         "5.8489167215806415",
         "0.3057002174302118",
         "0.239104546429345",
         "0.418377321603128"
        ],
        [
         "3",
         "RCEL",
         "Medium-High",
         "13.289236526096971",
         "3209",
         "5.655528679061109",
         "0.9155787417765432",
         "0.6273267758867564",
         "0.2670613898410719"
        ],
        [
         "4",
         "C",
         "Medium-Low",
         "79.32624770995221",
         "12132",
         "29.47586259421219",
         "0.3257516748517217",
         "0.2418180963564726",
         "0.368034948895483"
        ]
       ],
       "shape": {
        "columns": 8,
        "rows": 5
       }
      },
      "text/html": [
       "<div>\n",
       "<style scoped>\n",
       "    .dataframe tbody tr th:only-of-type {\n",
       "        vertical-align: middle;\n",
       "    }\n",
       "\n",
       "    .dataframe tbody tr th {\n",
       "        vertical-align: top;\n",
       "    }\n",
       "\n",
       "    .dataframe thead th {\n",
       "        text-align: right;\n",
       "    }\n",
       "</style>\n",
       "<table border=\"1\" class=\"dataframe\">\n",
       "  <thead>\n",
       "    <tr style=\"text-align: right;\">\n",
       "      <th></th>\n",
       "      <th>ticker</th>\n",
       "      <th>volatility</th>\n",
       "      <th>avg_price</th>\n",
       "      <th>len</th>\n",
       "      <th>naive_smape</th>\n",
       "      <th>smape_standard</th>\n",
       "      <th>smape_tuned</th>\n",
       "      <th>winsorized_pct</th>\n",
       "    </tr>\n",
       "  </thead>\n",
       "  <tbody>\n",
       "    <tr>\n",
       "      <th>0</th>\n",
       "      <td>WPP</td>\n",
       "      <td>Medium</td>\n",
       "      <td>32.136355</td>\n",
       "      <td>9355</td>\n",
       "      <td>4.883490</td>\n",
       "      <td>0.270578</td>\n",
       "      <td>0.075833</td>\n",
       "      <td>0.364725</td>\n",
       "    </tr>\n",
       "    <tr>\n",
       "      <th>1</th>\n",
       "      <td>CVGW</td>\n",
       "      <td>Medium</td>\n",
       "      <td>31.071787</td>\n",
       "      <td>5681</td>\n",
       "      <td>4.160058</td>\n",
       "      <td>0.162737</td>\n",
       "      <td>0.163886</td>\n",
       "      <td>0.363316</td>\n",
       "    </tr>\n",
       "    <tr>\n",
       "      <th>2</th>\n",
       "      <td>DFH</td>\n",
       "      <td>Medium</td>\n",
       "      <td>22.145518</td>\n",
       "      <td>1023</td>\n",
       "      <td>5.848917</td>\n",
       "      <td>0.305700</td>\n",
       "      <td>0.239105</td>\n",
       "      <td>0.418377</td>\n",
       "    </tr>\n",
       "    <tr>\n",
       "      <th>3</th>\n",
       "      <td>RCEL</td>\n",
       "      <td>Medium-High</td>\n",
       "      <td>13.289237</td>\n",
       "      <td>3209</td>\n",
       "      <td>5.655529</td>\n",
       "      <td>0.915579</td>\n",
       "      <td>0.627327</td>\n",
       "      <td>0.267061</td>\n",
       "    </tr>\n",
       "    <tr>\n",
       "      <th>4</th>\n",
       "      <td>C</td>\n",
       "      <td>Medium-Low</td>\n",
       "      <td>79.326248</td>\n",
       "      <td>12132</td>\n",
       "      <td>29.475863</td>\n",
       "      <td>0.325752</td>\n",
       "      <td>0.241818</td>\n",
       "      <td>0.368035</td>\n",
       "    </tr>\n",
       "  </tbody>\n",
       "</table>\n",
       "</div>"
      ],
      "text/plain": [
       "  ticker   volatility  avg_price    len  naive_smape  smape_standard  \\\n",
       "0    WPP       Medium  32.136355   9355     4.883490        0.270578   \n",
       "1   CVGW       Medium  31.071787   5681     4.160058        0.162737   \n",
       "2    DFH       Medium  22.145518   1023     5.848917        0.305700   \n",
       "3   RCEL  Medium-High  13.289237   3209     5.655529        0.915579   \n",
       "4      C   Medium-Low  79.326248  12132    29.475863        0.325752   \n",
       "\n",
       "   smape_tuned  winsorized_pct  \n",
       "0     0.075833        0.364725  \n",
       "1     0.163886        0.363316  \n",
       "2     0.239105        0.418377  \n",
       "3     0.627327        0.267061  \n",
       "4     0.241818        0.368035  "
      ]
     },
     "execution_count": 8,
     "metadata": {},
     "output_type": "execute_result"
    }
   ],
   "source": [
    "df.head()"
   ]
  },
  {
   "cell_type": "code",
   "execution_count": 9,
   "metadata": {},
   "outputs": [
    {
     "data": {
      "text/plain": [
       "150"
      ]
     },
     "execution_count": 9,
     "metadata": {},
     "output_type": "execute_result"
    }
   ],
   "source": [
    "len(df)"
   ]
  },
  {
   "cell_type": "code",
   "execution_count": 10,
   "metadata": {},
   "outputs": [
    {
     "data": {
      "application/vnd.microsoft.datawrangler.viewer.v0+json": {
       "columns": [
        {
         "name": "index",
         "rawType": "int64",
         "type": "integer"
        },
        {
         "name": "ticker",
         "rawType": "object",
         "type": "string"
        },
        {
         "name": "volatility",
         "rawType": "object",
         "type": "string"
        },
        {
         "name": "avg_price",
         "rawType": "float64",
         "type": "float"
        },
        {
         "name": "len",
         "rawType": "int64",
         "type": "integer"
        },
        {
         "name": "naive_smape",
         "rawType": "float64",
         "type": "float"
        },
        {
         "name": "smape_standard",
         "rawType": "float64",
         "type": "float"
        },
        {
         "name": "smape_tuned",
         "rawType": "float64",
         "type": "float"
        },
        {
         "name": "winsorized_pct",
         "rawType": "float64",
         "type": "float"
        }
       ],
       "conversionMethod": "pd.DataFrame",
       "ref": "73cbd8a1-49b8-456f-b708-7df5051806b1",
       "rows": [
        [
         "0",
         "WPP",
         "Medium",
         "32.1363547602546",
         "9355",
         "4.883489842127663",
         "0.2705780561044689",
         "0.075832581214297",
         "0.3647247461250668"
        ],
        [
         "1",
         "CVGW",
         "Medium",
         "31.07178706682981",
         "5681",
         "4.16005772163431",
         "0.1627373608887741",
         "0.1638857082253768",
         "0.3633163175497271"
        ],
        [
         "2",
         "DFH",
         "Medium",
         "22.14551804189225",
         "1023",
         "5.8489167215806415",
         "0.3057002174302118",
         "0.239104546429345",
         "0.418377321603128"
        ],
        [
         "3",
         "RCEL",
         "Medium-High",
         "13.289236526096971",
         "3209",
         "5.655528679061109",
         "0.9155787417765432",
         "0.6273267758867564",
         "0.2670613898410719"
        ],
        [
         "4",
         "C",
         "Medium-Low",
         "79.32624770995221",
         "12132",
         "29.47586259421219",
         "0.3257516748517217",
         "0.2418180963564726",
         "0.368034948895483"
        ]
       ],
       "shape": {
        "columns": 8,
        "rows": 5
       }
      },
      "text/html": [
       "<div>\n",
       "<style scoped>\n",
       "    .dataframe tbody tr th:only-of-type {\n",
       "        vertical-align: middle;\n",
       "    }\n",
       "\n",
       "    .dataframe tbody tr th {\n",
       "        vertical-align: top;\n",
       "    }\n",
       "\n",
       "    .dataframe thead th {\n",
       "        text-align: right;\n",
       "    }\n",
       "</style>\n",
       "<table border=\"1\" class=\"dataframe\">\n",
       "  <thead>\n",
       "    <tr style=\"text-align: right;\">\n",
       "      <th></th>\n",
       "      <th>ticker</th>\n",
       "      <th>volatility</th>\n",
       "      <th>avg_price</th>\n",
       "      <th>len</th>\n",
       "      <th>naive_smape</th>\n",
       "      <th>smape_standard</th>\n",
       "      <th>smape_tuned</th>\n",
       "      <th>winsorized_pct</th>\n",
       "    </tr>\n",
       "  </thead>\n",
       "  <tbody>\n",
       "    <tr>\n",
       "      <th>0</th>\n",
       "      <td>WPP</td>\n",
       "      <td>Medium</td>\n",
       "      <td>32.136355</td>\n",
       "      <td>9355</td>\n",
       "      <td>4.883490</td>\n",
       "      <td>0.270578</td>\n",
       "      <td>0.075833</td>\n",
       "      <td>0.364725</td>\n",
       "    </tr>\n",
       "    <tr>\n",
       "      <th>1</th>\n",
       "      <td>CVGW</td>\n",
       "      <td>Medium</td>\n",
       "      <td>31.071787</td>\n",
       "      <td>5681</td>\n",
       "      <td>4.160058</td>\n",
       "      <td>0.162737</td>\n",
       "      <td>0.163886</td>\n",
       "      <td>0.363316</td>\n",
       "    </tr>\n",
       "    <tr>\n",
       "      <th>2</th>\n",
       "      <td>DFH</td>\n",
       "      <td>Medium</td>\n",
       "      <td>22.145518</td>\n",
       "      <td>1023</td>\n",
       "      <td>5.848917</td>\n",
       "      <td>0.305700</td>\n",
       "      <td>0.239105</td>\n",
       "      <td>0.418377</td>\n",
       "    </tr>\n",
       "    <tr>\n",
       "      <th>3</th>\n",
       "      <td>RCEL</td>\n",
       "      <td>Medium-High</td>\n",
       "      <td>13.289237</td>\n",
       "      <td>3209</td>\n",
       "      <td>5.655529</td>\n",
       "      <td>0.915579</td>\n",
       "      <td>0.627327</td>\n",
       "      <td>0.267061</td>\n",
       "    </tr>\n",
       "    <tr>\n",
       "      <th>4</th>\n",
       "      <td>C</td>\n",
       "      <td>Medium-Low</td>\n",
       "      <td>79.326248</td>\n",
       "      <td>12132</td>\n",
       "      <td>29.475863</td>\n",
       "      <td>0.325752</td>\n",
       "      <td>0.241818</td>\n",
       "      <td>0.368035</td>\n",
       "    </tr>\n",
       "  </tbody>\n",
       "</table>\n",
       "</div>"
      ],
      "text/plain": [
       "  ticker   volatility  avg_price    len  naive_smape  smape_standard  \\\n",
       "0    WPP       Medium  32.136355   9355     4.883490        0.270578   \n",
       "1   CVGW       Medium  31.071787   5681     4.160058        0.162737   \n",
       "2    DFH       Medium  22.145518   1023     5.848917        0.305700   \n",
       "3   RCEL  Medium-High  13.289237   3209     5.655529        0.915579   \n",
       "4      C   Medium-Low  79.326248  12132    29.475863        0.325752   \n",
       "\n",
       "   smape_tuned  winsorized_pct  \n",
       "0     0.075833        0.364725  \n",
       "1     0.163886        0.363316  \n",
       "2     0.239105        0.418377  \n",
       "3     0.627327        0.267061  \n",
       "4     0.241818        0.368035  "
      ]
     },
     "execution_count": 10,
     "metadata": {},
     "output_type": "execute_result"
    }
   ],
   "source": [
    "df.head()"
   ]
  },
  {
   "cell_type": "code",
   "execution_count": 11,
   "metadata": {},
   "outputs": [],
   "source": [
    "df['cust_delta'] = (df['smape_tuned'] - df['smape_standard']) / df['smape_standard']"
   ]
  },
  {
   "cell_type": "code",
   "execution_count": 12,
   "metadata": {},
   "outputs": [
    {
     "data": {
      "application/vnd.microsoft.datawrangler.viewer.v0+json": {
       "columns": [
        {
         "name": "index",
         "rawType": "int64",
         "type": "integer"
        },
        {
         "name": "ticker",
         "rawType": "object",
         "type": "string"
        },
        {
         "name": "volatility",
         "rawType": "object",
         "type": "string"
        },
        {
         "name": "avg_price",
         "rawType": "float64",
         "type": "float"
        },
        {
         "name": "len",
         "rawType": "int64",
         "type": "integer"
        },
        {
         "name": "naive_smape",
         "rawType": "float64",
         "type": "float"
        },
        {
         "name": "smape_standard",
         "rawType": "float64",
         "type": "float"
        },
        {
         "name": "smape_tuned",
         "rawType": "float64",
         "type": "float"
        },
        {
         "name": "winsorized_pct",
         "rawType": "float64",
         "type": "float"
        },
        {
         "name": "cust_delta",
         "rawType": "float64",
         "type": "float"
        }
       ],
       "conversionMethod": "pd.DataFrame",
       "ref": "0dd05cf9-06e1-476b-89c4-20dd502dba8b",
       "rows": [
        [
         "0",
         "WPP",
         "Medium",
         "32.1363547602546",
         "9355",
         "4.883489842127663",
         "0.2705780561044689",
         "0.075832581214297",
         "0.3647247461250668",
         "-0.7197386133004873"
        ],
        [
         "1",
         "CVGW",
         "Medium",
         "31.07178706682981",
         "5681",
         "4.16005772163431",
         "0.1627373608887741",
         "0.1638857082253768",
         "0.3633163175497271",
         "0.007056445614769086"
        ],
        [
         "2",
         "DFH",
         "Medium",
         "22.14551804189225",
         "1023",
         "5.8489167215806415",
         "0.3057002174302118",
         "0.239104546429345",
         "0.418377321603128",
         "-0.21784633181057486"
        ],
        [
         "3",
         "RCEL",
         "Medium-High",
         "13.289236526096971",
         "3209",
         "5.655528679061109",
         "0.9155787417765432",
         "0.6273267758867564",
         "0.2670613898410719",
         "-0.3148303392567602"
        ],
        [
         "4",
         "C",
         "Medium-Low",
         "79.32624770995221",
         "12132",
         "29.47586259421219",
         "0.3257516748517217",
         "0.2418180963564726",
         "0.368034948895483",
         "-0.25766123392444457"
        ]
       ],
       "shape": {
        "columns": 9,
        "rows": 5
       }
      },
      "text/html": [
       "<div>\n",
       "<style scoped>\n",
       "    .dataframe tbody tr th:only-of-type {\n",
       "        vertical-align: middle;\n",
       "    }\n",
       "\n",
       "    .dataframe tbody tr th {\n",
       "        vertical-align: top;\n",
       "    }\n",
       "\n",
       "    .dataframe thead th {\n",
       "        text-align: right;\n",
       "    }\n",
       "</style>\n",
       "<table border=\"1\" class=\"dataframe\">\n",
       "  <thead>\n",
       "    <tr style=\"text-align: right;\">\n",
       "      <th></th>\n",
       "      <th>ticker</th>\n",
       "      <th>volatility</th>\n",
       "      <th>avg_price</th>\n",
       "      <th>len</th>\n",
       "      <th>naive_smape</th>\n",
       "      <th>smape_standard</th>\n",
       "      <th>smape_tuned</th>\n",
       "      <th>winsorized_pct</th>\n",
       "      <th>cust_delta</th>\n",
       "    </tr>\n",
       "  </thead>\n",
       "  <tbody>\n",
       "    <tr>\n",
       "      <th>0</th>\n",
       "      <td>WPP</td>\n",
       "      <td>Medium</td>\n",
       "      <td>32.136355</td>\n",
       "      <td>9355</td>\n",
       "      <td>4.883490</td>\n",
       "      <td>0.270578</td>\n",
       "      <td>0.075833</td>\n",
       "      <td>0.364725</td>\n",
       "      <td>-0.719739</td>\n",
       "    </tr>\n",
       "    <tr>\n",
       "      <th>1</th>\n",
       "      <td>CVGW</td>\n",
       "      <td>Medium</td>\n",
       "      <td>31.071787</td>\n",
       "      <td>5681</td>\n",
       "      <td>4.160058</td>\n",
       "      <td>0.162737</td>\n",
       "      <td>0.163886</td>\n",
       "      <td>0.363316</td>\n",
       "      <td>0.007056</td>\n",
       "    </tr>\n",
       "    <tr>\n",
       "      <th>2</th>\n",
       "      <td>DFH</td>\n",
       "      <td>Medium</td>\n",
       "      <td>22.145518</td>\n",
       "      <td>1023</td>\n",
       "      <td>5.848917</td>\n",
       "      <td>0.305700</td>\n",
       "      <td>0.239105</td>\n",
       "      <td>0.418377</td>\n",
       "      <td>-0.217846</td>\n",
       "    </tr>\n",
       "    <tr>\n",
       "      <th>3</th>\n",
       "      <td>RCEL</td>\n",
       "      <td>Medium-High</td>\n",
       "      <td>13.289237</td>\n",
       "      <td>3209</td>\n",
       "      <td>5.655529</td>\n",
       "      <td>0.915579</td>\n",
       "      <td>0.627327</td>\n",
       "      <td>0.267061</td>\n",
       "      <td>-0.314830</td>\n",
       "    </tr>\n",
       "    <tr>\n",
       "      <th>4</th>\n",
       "      <td>C</td>\n",
       "      <td>Medium-Low</td>\n",
       "      <td>79.326248</td>\n",
       "      <td>12132</td>\n",
       "      <td>29.475863</td>\n",
       "      <td>0.325752</td>\n",
       "      <td>0.241818</td>\n",
       "      <td>0.368035</td>\n",
       "      <td>-0.257661</td>\n",
       "    </tr>\n",
       "  </tbody>\n",
       "</table>\n",
       "</div>"
      ],
      "text/plain": [
       "  ticker   volatility  avg_price    len  naive_smape  smape_standard  \\\n",
       "0    WPP       Medium  32.136355   9355     4.883490        0.270578   \n",
       "1   CVGW       Medium  31.071787   5681     4.160058        0.162737   \n",
       "2    DFH       Medium  22.145518   1023     5.848917        0.305700   \n",
       "3   RCEL  Medium-High  13.289237   3209     5.655529        0.915579   \n",
       "4      C   Medium-Low  79.326248  12132    29.475863        0.325752   \n",
       "\n",
       "   smape_tuned  winsorized_pct  cust_delta  \n",
       "0     0.075833        0.364725   -0.719739  \n",
       "1     0.163886        0.363316    0.007056  \n",
       "2     0.239105        0.418377   -0.217846  \n",
       "3     0.627327        0.267061   -0.314830  \n",
       "4     0.241818        0.368035   -0.257661  "
      ]
     },
     "execution_count": 12,
     "metadata": {},
     "output_type": "execute_result"
    }
   ],
   "source": [
    "df.head()"
   ]
  },
  {
   "cell_type": "code",
   "execution_count": 13,
   "metadata": {},
   "outputs": [
    {
     "data": {
      "text/plain": [
       "150"
      ]
     },
     "execution_count": 13,
     "metadata": {},
     "output_type": "execute_result"
    }
   ],
   "source": [
    "len(df)"
   ]
  },
  {
   "cell_type": "code",
   "execution_count": 14,
   "metadata": {},
   "outputs": [],
   "source": [
    "vol_order = ['Low', 'Medium-Low', 'Medium', 'Medium-High', 'High']"
   ]
  },
  {
   "cell_type": "code",
   "execution_count": 15,
   "metadata": {},
   "outputs": [],
   "source": [
    "# Set volatility to ordered categorical\n",
    "\n",
    "df['volatility'] = pd.Categorical(df['volatility'], categories=vol_order, ordered=True) "
   ]
  },
  {
   "cell_type": "code",
   "execution_count": 16,
   "metadata": {},
   "outputs": [
    {
     "name": "stderr",
     "output_type": "stream",
     "text": [
      "/var/folders/3h/wry2g1pj18qgw40b52yh7d580000gp/T/ipykernel_32908/3457669039.py:3: FutureWarning: The default of observed=False is deprecated and will be changed to True in a future version of pandas. Pass observed=False to retain current behavior or observed=True to adopt the future default and silence this warning.\n",
      "  df_mean = df.groupby('volatility').agg({\n"
     ]
    },
    {
     "data": {
      "application/vnd.microsoft.datawrangler.viewer.v0+json": {
       "columns": [
        {
         "name": "index",
         "rawType": "int64",
         "type": "integer"
        },
        {
         "name": "volatility",
         "rawType": "category",
         "type": "unknown"
        },
        {
         "name": "avg_price",
         "rawType": "float64",
         "type": "float"
        },
        {
         "name": "len",
         "rawType": "float64",
         "type": "float"
        },
        {
         "name": "winsorized_pct",
         "rawType": "float64",
         "type": "float"
        },
        {
         "name": "cust_delta",
         "rawType": "float64",
         "type": "float"
        },
        {
         "name": "smape_standard",
         "rawType": "float64",
         "type": "float"
        },
        {
         "name": "smape_tuned",
         "rawType": "float64",
         "type": "float"
        }
       ],
       "conversionMethod": "pd.DataFrame",
       "ref": "df0fd9aa-763f-4383-a3e5-53c486f3c7f0",
       "rows": [
        [
         "0",
         "Low",
         "36.112028636414315",
         "2896.1",
         "0.5838671055161071",
         "-0.2057208551953312",
         "0.06841295305755572",
         "0.046811253906131216"
        ],
        [
         "1",
         "Medium-Low",
         "49.660710679378546",
         "6749.266666666666",
         "0.3776701568344713",
         "-0.2257798073108333",
         "0.20629245367901294",
         "0.13032614873294057"
        ],
        [
         "2",
         "Medium",
         "35.21632387753083",
         "4806.933333333333",
         "0.3760582669926506",
         "-0.24708737398796024",
         "0.3682521001124953",
         "0.21452689838314618"
        ],
        [
         "3",
         "Medium-High",
         "43794.33603086494",
         "3374.9",
         "0.2965187609102299",
         "-0.2090395207198674",
         "0.552055422969972",
         "0.43074050744903847"
        ],
        [
         "4",
         "High",
         "229253.67944737745",
         "2850.266666666667",
         "0.27823687225494315",
         "-0.20541659745307553",
         "1.3200872531519712",
         "1.0638121453921503"
        ]
       ],
       "shape": {
        "columns": 7,
        "rows": 5
       }
      },
      "text/html": [
       "<div>\n",
       "<style scoped>\n",
       "    .dataframe tbody tr th:only-of-type {\n",
       "        vertical-align: middle;\n",
       "    }\n",
       "\n",
       "    .dataframe tbody tr th {\n",
       "        vertical-align: top;\n",
       "    }\n",
       "\n",
       "    .dataframe thead th {\n",
       "        text-align: right;\n",
       "    }\n",
       "</style>\n",
       "<table border=\"1\" class=\"dataframe\">\n",
       "  <thead>\n",
       "    <tr style=\"text-align: right;\">\n",
       "      <th></th>\n",
       "      <th>volatility</th>\n",
       "      <th>avg_price</th>\n",
       "      <th>len</th>\n",
       "      <th>winsorized_pct</th>\n",
       "      <th>cust_delta</th>\n",
       "      <th>smape_standard</th>\n",
       "      <th>smape_tuned</th>\n",
       "    </tr>\n",
       "  </thead>\n",
       "  <tbody>\n",
       "    <tr>\n",
       "      <th>0</th>\n",
       "      <td>Low</td>\n",
       "      <td>36.112029</td>\n",
       "      <td>2896.100000</td>\n",
       "      <td>0.583867</td>\n",
       "      <td>-0.205721</td>\n",
       "      <td>0.068413</td>\n",
       "      <td>0.046811</td>\n",
       "    </tr>\n",
       "    <tr>\n",
       "      <th>1</th>\n",
       "      <td>Medium-Low</td>\n",
       "      <td>49.660711</td>\n",
       "      <td>6749.266667</td>\n",
       "      <td>0.377670</td>\n",
       "      <td>-0.225780</td>\n",
       "      <td>0.206292</td>\n",
       "      <td>0.130326</td>\n",
       "    </tr>\n",
       "    <tr>\n",
       "      <th>2</th>\n",
       "      <td>Medium</td>\n",
       "      <td>35.216324</td>\n",
       "      <td>4806.933333</td>\n",
       "      <td>0.376058</td>\n",
       "      <td>-0.247087</td>\n",
       "      <td>0.368252</td>\n",
       "      <td>0.214527</td>\n",
       "    </tr>\n",
       "    <tr>\n",
       "      <th>3</th>\n",
       "      <td>Medium-High</td>\n",
       "      <td>43794.336031</td>\n",
       "      <td>3374.900000</td>\n",
       "      <td>0.296519</td>\n",
       "      <td>-0.209040</td>\n",
       "      <td>0.552055</td>\n",
       "      <td>0.430741</td>\n",
       "    </tr>\n",
       "    <tr>\n",
       "      <th>4</th>\n",
       "      <td>High</td>\n",
       "      <td>229253.679447</td>\n",
       "      <td>2850.266667</td>\n",
       "      <td>0.278237</td>\n",
       "      <td>-0.205417</td>\n",
       "      <td>1.320087</td>\n",
       "      <td>1.063812</td>\n",
       "    </tr>\n",
       "  </tbody>\n",
       "</table>\n",
       "</div>"
      ],
      "text/plain": [
       "    volatility      avg_price          len  winsorized_pct  cust_delta  \\\n",
       "0          Low      36.112029  2896.100000        0.583867   -0.205721   \n",
       "1   Medium-Low      49.660711  6749.266667        0.377670   -0.225780   \n",
       "2       Medium      35.216324  4806.933333        0.376058   -0.247087   \n",
       "3  Medium-High   43794.336031  3374.900000        0.296519   -0.209040   \n",
       "4         High  229253.679447  2850.266667        0.278237   -0.205417   \n",
       "\n",
       "   smape_standard  smape_tuned  \n",
       "0        0.068413     0.046811  \n",
       "1        0.206292     0.130326  \n",
       "2        0.368252     0.214527  \n",
       "3        0.552055     0.430741  \n",
       "4        1.320087     1.063812  "
      ]
     },
     "execution_count": 16,
     "metadata": {},
     "output_type": "execute_result"
    }
   ],
   "source": [
    "# Get average price, length, and winsorized percentage for each volatility level\n",
    "\n",
    "df_mean = df.groupby('volatility').agg({\n",
    "    'avg_price': 'mean', \n",
    "    'len': 'mean', \n",
    "    'winsorized_pct': 'mean',\n",
    "    'cust_delta': 'mean', \n",
    "    'smape_standard': 'mean',\n",
    "    'smape_tuned': 'mean'\n",
    "}).sort_index().reset_index()\n",
    "df_mean"
   ]
  },
  {
   "cell_type": "code",
   "execution_count": 17,
   "metadata": {},
   "outputs": [
    {
     "name": "stderr",
     "output_type": "stream",
     "text": [
      "/var/folders/3h/wry2g1pj18qgw40b52yh7d580000gp/T/ipykernel_32908/1532854326.py:3: FutureWarning: The default of observed=False is deprecated and will be changed to True in a future version of pandas. Pass observed=False to retain current behavior or observed=True to adopt the future default and silence this warning.\n",
      "  df.groupby('volatility').agg({'cust_delta': 'std'}).sort_values('cust_delta', ascending=False).sort_index().reset_index()\n"
     ]
    },
    {
     "data": {
      "application/vnd.microsoft.datawrangler.viewer.v0+json": {
       "columns": [
        {
         "name": "index",
         "rawType": "int64",
         "type": "integer"
        },
        {
         "name": "volatility",
         "rawType": "category",
         "type": "unknown"
        },
        {
         "name": "cust_delta",
         "rawType": "float64",
         "type": "float"
        }
       ],
       "conversionMethod": "pd.DataFrame",
       "ref": "afe9e989-03d8-4d2c-98ed-cba76685a160",
       "rows": [
        [
         "0",
         "Low",
         "0.2410515091559302"
        ],
        [
         "1",
         "Medium-Low",
         "0.20939472529015035"
        ],
        [
         "2",
         "Medium",
         "0.2830369381536093"
        ],
        [
         "3",
         "Medium-High",
         "0.26002738961433325"
        ],
        [
         "4",
         "High",
         "0.21783112569038168"
        ]
       ],
       "shape": {
        "columns": 2,
        "rows": 5
       }
      },
      "text/html": [
       "<div>\n",
       "<style scoped>\n",
       "    .dataframe tbody tr th:only-of-type {\n",
       "        vertical-align: middle;\n",
       "    }\n",
       "\n",
       "    .dataframe tbody tr th {\n",
       "        vertical-align: top;\n",
       "    }\n",
       "\n",
       "    .dataframe thead th {\n",
       "        text-align: right;\n",
       "    }\n",
       "</style>\n",
       "<table border=\"1\" class=\"dataframe\">\n",
       "  <thead>\n",
       "    <tr style=\"text-align: right;\">\n",
       "      <th></th>\n",
       "      <th>volatility</th>\n",
       "      <th>cust_delta</th>\n",
       "    </tr>\n",
       "  </thead>\n",
       "  <tbody>\n",
       "    <tr>\n",
       "      <th>0</th>\n",
       "      <td>Low</td>\n",
       "      <td>0.241052</td>\n",
       "    </tr>\n",
       "    <tr>\n",
       "      <th>1</th>\n",
       "      <td>Medium-Low</td>\n",
       "      <td>0.209395</td>\n",
       "    </tr>\n",
       "    <tr>\n",
       "      <th>2</th>\n",
       "      <td>Medium</td>\n",
       "      <td>0.283037</td>\n",
       "    </tr>\n",
       "    <tr>\n",
       "      <th>3</th>\n",
       "      <td>Medium-High</td>\n",
       "      <td>0.260027</td>\n",
       "    </tr>\n",
       "    <tr>\n",
       "      <th>4</th>\n",
       "      <td>High</td>\n",
       "      <td>0.217831</td>\n",
       "    </tr>\n",
       "  </tbody>\n",
       "</table>\n",
       "</div>"
      ],
      "text/plain": [
       "    volatility  cust_delta\n",
       "0          Low    0.241052\n",
       "1   Medium-Low    0.209395\n",
       "2       Medium    0.283037\n",
       "3  Medium-High    0.260027\n",
       "4         High    0.217831"
      ]
     },
     "execution_count": 17,
     "metadata": {},
     "output_type": "execute_result"
    }
   ],
   "source": [
    "# Which category had a wider range of pct_change values?\n",
    "\n",
    "df.groupby('volatility').agg({'cust_delta': 'std'}).sort_values('cust_delta', ascending=False).sort_index().reset_index()"
   ]
  },
  {
   "cell_type": "code",
   "execution_count": 18,
   "metadata": {},
   "outputs": [
    {
     "data": {
      "image/png": "[encoded data removed]",
      "text/plain": [
       "<Figure size 640x480 with 1 Axes>"
      ]
     },
     "metadata": {},
     "output_type": "display_data"
    }
   ],
   "source": [
    "import seaborn as sns\n",
    "import matplotlib.pyplot as plt\n",
    "\n",
    "# Define the desired order of volatility categories\n",
    "volatility_order = ['High', 'Medium-High', 'Medium', 'Medium-Low', 'Low']\n",
    "\n",
    "# Create the boxplot, specifying the order\n",
    "sns.boxplot(x='volatility', y='cust_delta', data=df, order=volatility_order)\n",
    "plt.title('Distribution of Custom Delta Percentage by Volatility Category')\n",
    "plt.xlabel('Volatility Category')\n",
    "plt.ylabel('Custom Delta Percentage')\n",
    "plt.show()"
   ]
  },
  {
   "cell_type": "code",
   "execution_count": 19,
   "metadata": {},
   "outputs": [
    {
     "data": {
      "text/plain": [
       "np.float64(-0.21860883093341352)"
      ]
     },
     "execution_count": 19,
     "metadata": {},
     "output_type": "execute_result"
    }
   ],
   "source": [
    "# pct change between models across all samples was...\n",
    "\n",
    "df['cust_delta'].mean()"
   ]
  },
  {
   "cell_type": "code",
   "execution_count": 20,
   "metadata": {},
   "outputs": [
    {
     "data": {
      "application/vnd.microsoft.datawrangler.viewer.v0+json": {
       "columns": [
        {
         "name": "index",
         "rawType": "int64",
         "type": "integer"
        },
        {
         "name": "ticker",
         "rawType": "object",
         "type": "string"
        },
        {
         "name": "volatility",
         "rawType": "category",
         "type": "unknown"
        },
        {
         "name": "avg_price",
         "rawType": "float64",
         "type": "float"
        },
        {
         "name": "len",
         "rawType": "int64",
         "type": "integer"
        },
        {
         "name": "naive_smape",
         "rawType": "float64",
         "type": "float"
        },
        {
         "name": "smape_standard",
         "rawType": "float64",
         "type": "float"
        },
        {
         "name": "smape_tuned",
         "rawType": "float64",
         "type": "float"
        },
        {
         "name": "winsorized_pct",
         "rawType": "float64",
         "type": "float"
        },
        {
         "name": "cust_delta",
         "rawType": "float64",
         "type": "float"
        }
       ],
       "conversionMethod": "pd.DataFrame",
       "ref": "456cf94f-adf8-47b9-9bf3-5ddf51ddb3fb",
       "rows": [
        [
         "50",
         "INMD",
         "Medium-High",
         "30.003641138838898",
         "1389",
         "17.272220678598355",
         "0.7931349075948066",
         "0.1635100893047221",
         "0.3275737940964723",
         "-0.7938432822222277"
        ],
        [
         "143",
         "JHMM",
         "Low",
         "39.257053717920336",
         "2360",
         "8.39738137942921",
         "0.2578696079357854",
         "0.0573972106974226",
         "0.5508474576271186",
         "-0.777417698980193"
        ],
        [
         "22",
         "VNT",
         "Medium-Low",
         "30.85167493163675",
         "1104",
         "6.215525816564068",
         "0.2549433620783543",
         "0.056780696472736",
         "0.3985507246376811",
         "-0.7772811340925008"
        ],
        [
         "66",
         "BURL",
         "Medium",
         "149.6229325040826",
         "2861",
         "61.50997115492562",
         "1.218545841878789",
         "0.3255093296635982",
         "0.3995106606081789",
         "-0.7328706738174753"
        ],
        [
         "0",
         "WPP",
         "Medium",
         "32.1363547602546",
         "9355",
         "4.883489842127663",
         "0.2705780561044689",
         "0.075832581214297",
         "0.3647247461250668",
         "-0.7197386133004873"
        ]
       ],
       "shape": {
        "columns": 9,
        "rows": 5
       }
      },
      "text/html": [
       "<div>\n",
       "<style scoped>\n",
       "    .dataframe tbody tr th:only-of-type {\n",
       "        vertical-align: middle;\n",
       "    }\n",
       "\n",
       "    .dataframe tbody tr th {\n",
       "        vertical-align: top;\n",
       "    }\n",
       "\n",
       "    .dataframe thead th {\n",
       "        text-align: right;\n",
       "    }\n",
       "</style>\n",
       "<table border=\"1\" class=\"dataframe\">\n",
       "  <thead>\n",
       "    <tr style=\"text-align: right;\">\n",
       "      <th></th>\n",
       "      <th>ticker</th>\n",
       "      <th>volatility</th>\n",
       "      <th>avg_price</th>\n",
       "      <th>len</th>\n",
       "      <th>naive_smape</th>\n",
       "      <th>smape_standard</th>\n",
       "      <th>smape_tuned</th>\n",
       "      <th>winsorized_pct</th>\n",
       "      <th>cust_delta</th>\n",
       "    </tr>\n",
       "  </thead>\n",
       "  <tbody>\n",
       "    <tr>\n",
       "      <th>50</th>\n",
       "      <td>INMD</td>\n",
       "      <td>Medium-High</td>\n",
       "      <td>30.003641</td>\n",
       "      <td>1389</td>\n",
       "      <td>17.272221</td>\n",
       "      <td>0.793135</td>\n",
       "      <td>0.163510</td>\n",
       "      <td>0.327574</td>\n",
       "      <td>-0.793843</td>\n",
       "    </tr>\n",
       "    <tr>\n",
       "      <th>143</th>\n",
       "      <td>JHMM</td>\n",
       "      <td>Low</td>\n",
       "      <td>39.257054</td>\n",
       "      <td>2360</td>\n",
       "      <td>8.397381</td>\n",
       "      <td>0.257870</td>\n",
       "      <td>0.057397</td>\n",
       "      <td>0.550847</td>\n",
       "      <td>-0.777418</td>\n",
       "    </tr>\n",
       "    <tr>\n",
       "      <th>22</th>\n",
       "      <td>VNT</td>\n",
       "      <td>Medium-Low</td>\n",
       "      <td>30.851675</td>\n",
       "      <td>1104</td>\n",
       "      <td>6.215526</td>\n",
       "      <td>0.254943</td>\n",
       "      <td>0.056781</td>\n",
       "      <td>0.398551</td>\n",
       "      <td>-0.777281</td>\n",
       "    </tr>\n",
       "    <tr>\n",
       "      <th>66</th>\n",
       "      <td>BURL</td>\n",
       "      <td>Medium</td>\n",
       "      <td>149.622933</td>\n",
       "      <td>2861</td>\n",
       "      <td>61.509971</td>\n",
       "      <td>1.218546</td>\n",
       "      <td>0.325509</td>\n",
       "      <td>0.399511</td>\n",
       "      <td>-0.732871</td>\n",
       "    </tr>\n",
       "    <tr>\n",
       "      <th>0</th>\n",
       "      <td>WPP</td>\n",
       "      <td>Medium</td>\n",
       "      <td>32.136355</td>\n",
       "      <td>9355</td>\n",
       "      <td>4.883490</td>\n",
       "      <td>0.270578</td>\n",
       "      <td>0.075833</td>\n",
       "      <td>0.364725</td>\n",
       "      <td>-0.719739</td>\n",
       "    </tr>\n",
       "  </tbody>\n",
       "</table>\n",
       "</div>"
      ],
      "text/plain": [
       "    ticker   volatility   avg_price   len  naive_smape  smape_standard  \\\n",
       "50    INMD  Medium-High   30.003641  1389    17.272221        0.793135   \n",
       "143   JHMM          Low   39.257054  2360     8.397381        0.257870   \n",
       "22     VNT   Medium-Low   30.851675  1104     6.215526        0.254943   \n",
       "66    BURL       Medium  149.622933  2861    61.509971        1.218546   \n",
       "0      WPP       Medium   32.136355  9355     4.883490        0.270578   \n",
       "\n",
       "     smape_tuned  winsorized_pct  cust_delta  \n",
       "50      0.163510        0.327574   -0.793843  \n",
       "143     0.057397        0.550847   -0.777418  \n",
       "22      0.056781        0.398551   -0.777281  \n",
       "66      0.325509        0.399511   -0.732871  \n",
       "0       0.075833        0.364725   -0.719739  "
      ]
     },
     "execution_count": 20,
     "metadata": {},
     "output_type": "execute_result"
    }
   ],
   "source": [
    "df.sort_values(by='cust_delta').head()"
   ]
  },
  {
   "cell_type": "code",
   "execution_count": 25,
   "metadata": {},
   "outputs": [
    {
     "data": {
      "image/png": "[encoded data removed]",
      "text/plain": [
       "<Figure size 640x480 with 1 Axes>"
      ]
     },
     "metadata": {},
     "output_type": "display_data"
    }
   ],
   "source": [
    "# line graph for volatility w winosrized_pct for df_mean\n",
    "\n",
    "plt.bar(df_mean['volatility'], df_mean['winsorized_pct'])\n",
    "plt.title('Mean Winsorized Percentage by Volatility Category')\n",
    "plt.xlabel('Volatility Category')\n",
    "plt.ylabel('Mean Winsorized Percentage')\n",
    "\n",
    "# Add labels to each bar\n",
    "for i, v in enumerate(df_mean['winsorized_pct']):\n",
    "    plt.text(i, v, f'{v:.2f}', ha='center', va='bottom')\n",
    "\n",
    "plt.show()"
   ]
  },
  {
   "cell_type": "code",
   "execution_count": 22,
   "metadata": {},
   "outputs": [
    {
     "data": {
      "image/png": "[encoded data removed]",
      "text/plain": [
       "<Figure size 640x480 with 1 Axes>"
      ]
     },
     "metadata": {},
     "output_type": "display_data"
    }
   ],
   "source": [
    "# line graph for volatility w smape_standard & smape_tuned\n",
    "\n",
    "plt.plot(df_mean['volatility'], df_mean['smape_standard'], label='Standard Model')\n",
    "plt.plot(df_mean['volatility'], df_mean['smape_tuned'], label='Tuned Model')\n",
    "plt.title('Mean smape by Volatility Category')\n",
    "plt.xlabel('Volatility Category')\n",
    "plt.ylabel('Mean smape')\n",
    "plt.legend()\n",
    "plt.show()"
   ]
  }
 ],
 "metadata": {
  "kernelspec": {
   "display_name": "venv",
   "language": "python",
   "name": "python3"
  },
  "language_info": {
   "codemirror_mode": {
    "name": "ipython",
    "version": 3
   },
   "file_extension": ".py",
   "mimetype": "text/x-python",
   "name": "python",
   "nbconvert_exporter": "python",
   "pygments_lexer": "ipython3",
   "version": "3.13.0"
  }
 },
 "nbformat": 4,
 "nbformat_minor": 2
}

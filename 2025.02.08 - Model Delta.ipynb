{
 "cells": [
  {
   "cell_type": "code",
   "execution_count": 1,
   "metadata": {},
   "outputs": [],
   "source": [
    "import pandas as pd"
   ]
  },
  {
   "cell_type": "code",
   "execution_count": 2,
   "metadata": {},
   "outputs": [],
   "source": [
    "df = pd.read_csv('/Users/shaneypeterson/Downloads/base_&_tuned_data.csv')"
   ]
  },
  {
   "cell_type": "code",
   "execution_count": 3,
   "metadata": {},
   "outputs": [
    {
     "data": {
      "text/html": [
       "<div>\n",
       "<style scoped>\n",
       "    .dataframe tbody tr th:only-of-type {\n",
       "        vertical-align: middle;\n",
       "    }\n",
       "\n",
       "    .dataframe tbody tr th {\n",
       "        vertical-align: top;\n",
       "    }\n",
       "\n",
       "    .dataframe thead th {\n",
       "        text-align: right;\n",
       "    }\n",
       "</style>\n",
       "<table border=\"1\" class=\"dataframe\">\n",
       "  <thead>\n",
       "    <tr style=\"text-align: right;\">\n",
       "      <th></th>\n",
       "      <th>ticker</th>\n",
       "      <th>volatility</th>\n",
       "      <th>rmse_base</th>\n",
       "      <th>avg_price</th>\n",
       "      <th>len</th>\n",
       "      <th>rmse_tuned</th>\n",
       "    </tr>\n",
       "  </thead>\n",
       "  <tbody>\n",
       "    <tr>\n",
       "      <th>0</th>\n",
       "      <td>BSNLF</td>\n",
       "      <td>High</td>\n",
       "      <td>0.044261</td>\n",
       "      <td>0.026089</td>\n",
       "      <td>1889</td>\n",
       "      <td>0.031845</td>\n",
       "    </tr>\n",
       "    <tr>\n",
       "      <th>1</th>\n",
       "      <td>FTA</td>\n",
       "      <td>Medium-Low</td>\n",
       "      <td>8.488856</td>\n",
       "      <td>38.647291</td>\n",
       "      <td>4457</td>\n",
       "      <td>4.376875</td>\n",
       "    </tr>\n",
       "    <tr>\n",
       "      <th>2</th>\n",
       "      <td>JTKWY</td>\n",
       "      <td>Medium-High</td>\n",
       "      <td>0.640134</td>\n",
       "      <td>9.432196</td>\n",
       "      <td>1226</td>\n",
       "      <td>0.565840</td>\n",
       "    </tr>\n",
       "    <tr>\n",
       "      <th>3</th>\n",
       "      <td>FWONB</td>\n",
       "      <td>Medium-Low</td>\n",
       "      <td>6.866346</td>\n",
       "      <td>46.538264</td>\n",
       "      <td>2016</td>\n",
       "      <td>6.854367</td>\n",
       "    </tr>\n",
       "    <tr>\n",
       "      <th>4</th>\n",
       "      <td>VRMMQ</td>\n",
       "      <td>High</td>\n",
       "      <td>116.538527</td>\n",
       "      <td>1104.577206</td>\n",
       "      <td>1173</td>\n",
       "      <td>78.179737</td>\n",
       "    </tr>\n",
       "  </tbody>\n",
       "</table>\n",
       "</div>"
      ],
      "text/plain": [
       "  ticker   volatility   rmse_base    avg_price   len  rmse_tuned\n",
       "0  BSNLF         High    0.044261     0.026089  1889    0.031845\n",
       "1    FTA   Medium-Low    8.488856    38.647291  4457    4.376875\n",
       "2  JTKWY  Medium-High    0.640134     9.432196  1226    0.565840\n",
       "3  FWONB   Medium-Low    6.866346    46.538264  2016    6.854367\n",
       "4  VRMMQ         High  116.538527  1104.577206  1173   78.179737"
      ]
     },
     "execution_count": 3,
     "metadata": {},
     "output_type": "execute_result"
    }
   ],
   "source": [
    "df.head()"
   ]
  },
  {
   "cell_type": "code",
   "execution_count": 4,
   "metadata": {},
   "outputs": [
    {
     "data": {
      "text/plain": [
       "150"
      ]
     },
     "execution_count": 4,
     "metadata": {},
     "output_type": "execute_result"
    }
   ],
   "source": [
    "len(df)"
   ]
  },
  {
   "cell_type": "code",
   "execution_count": 5,
   "metadata": {},
   "outputs": [],
   "source": [
    "df = df[['ticker', 'volatility', 'avg_price', 'len', 'rmse_base', 'rmse_tuned']]"
   ]
  },
  {
   "cell_type": "code",
   "execution_count": 6,
   "metadata": {},
   "outputs": [
    {
     "data": {
      "text/html": [
       "<div>\n",
       "<style scoped>\n",
       "    .dataframe tbody tr th:only-of-type {\n",
       "        vertical-align: middle;\n",
       "    }\n",
       "\n",
       "    .dataframe tbody tr th {\n",
       "        vertical-align: top;\n",
       "    }\n",
       "\n",
       "    .dataframe thead th {\n",
       "        text-align: right;\n",
       "    }\n",
       "</style>\n",
       "<table border=\"1\" class=\"dataframe\">\n",
       "  <thead>\n",
       "    <tr style=\"text-align: right;\">\n",
       "      <th></th>\n",
       "      <th>ticker</th>\n",
       "      <th>volatility</th>\n",
       "      <th>avg_price</th>\n",
       "      <th>len</th>\n",
       "      <th>rmse_base</th>\n",
       "      <th>rmse_tuned</th>\n",
       "    </tr>\n",
       "  </thead>\n",
       "  <tbody>\n",
       "    <tr>\n",
       "      <th>0</th>\n",
       "      <td>BSNLF</td>\n",
       "      <td>High</td>\n",
       "      <td>0.026089</td>\n",
       "      <td>1889</td>\n",
       "      <td>0.044261</td>\n",
       "      <td>0.031845</td>\n",
       "    </tr>\n",
       "    <tr>\n",
       "      <th>1</th>\n",
       "      <td>FTA</td>\n",
       "      <td>Medium-Low</td>\n",
       "      <td>38.647291</td>\n",
       "      <td>4457</td>\n",
       "      <td>8.488856</td>\n",
       "      <td>4.376875</td>\n",
       "    </tr>\n",
       "    <tr>\n",
       "      <th>2</th>\n",
       "      <td>JTKWY</td>\n",
       "      <td>Medium-High</td>\n",
       "      <td>9.432196</td>\n",
       "      <td>1226</td>\n",
       "      <td>0.640134</td>\n",
       "      <td>0.565840</td>\n",
       "    </tr>\n",
       "    <tr>\n",
       "      <th>3</th>\n",
       "      <td>FWONB</td>\n",
       "      <td>Medium-Low</td>\n",
       "      <td>46.538264</td>\n",
       "      <td>2016</td>\n",
       "      <td>6.866346</td>\n",
       "      <td>6.854367</td>\n",
       "    </tr>\n",
       "    <tr>\n",
       "      <th>4</th>\n",
       "      <td>VRMMQ</td>\n",
       "      <td>High</td>\n",
       "      <td>1104.577206</td>\n",
       "      <td>1173</td>\n",
       "      <td>116.538527</td>\n",
       "      <td>78.179737</td>\n",
       "    </tr>\n",
       "  </tbody>\n",
       "</table>\n",
       "</div>"
      ],
      "text/plain": [
       "  ticker   volatility    avg_price   len   rmse_base  rmse_tuned\n",
       "0  BSNLF         High     0.026089  1889    0.044261    0.031845\n",
       "1    FTA   Medium-Low    38.647291  4457    8.488856    4.376875\n",
       "2  JTKWY  Medium-High     9.432196  1226    0.640134    0.565840\n",
       "3  FWONB   Medium-Low    46.538264  2016    6.866346    6.854367\n",
       "4  VRMMQ         High  1104.577206  1173  116.538527   78.179737"
      ]
     },
     "execution_count": 6,
     "metadata": {},
     "output_type": "execute_result"
    }
   ],
   "source": [
    "df.head()"
   ]
  },
  {
   "cell_type": "code",
   "execution_count": 7,
   "metadata": {},
   "outputs": [],
   "source": [
    "df['pct_change'] = (df['rmse_tuned'] - df['rmse_base']) / df['rmse_base']"
   ]
  },
  {
   "cell_type": "code",
   "execution_count": 8,
   "metadata": {},
   "outputs": [
    {
     "data": {
      "text/html": [
       "<div>\n",
       "<style scoped>\n",
       "    .dataframe tbody tr th:only-of-type {\n",
       "        vertical-align: middle;\n",
       "    }\n",
       "\n",
       "    .dataframe tbody tr th {\n",
       "        vertical-align: top;\n",
       "    }\n",
       "\n",
       "    .dataframe thead th {\n",
       "        text-align: right;\n",
       "    }\n",
       "</style>\n",
       "<table border=\"1\" class=\"dataframe\">\n",
       "  <thead>\n",
       "    <tr style=\"text-align: right;\">\n",
       "      <th></th>\n",
       "      <th>ticker</th>\n",
       "      <th>volatility</th>\n",
       "      <th>avg_price</th>\n",
       "      <th>len</th>\n",
       "      <th>rmse_base</th>\n",
       "      <th>rmse_tuned</th>\n",
       "      <th>pct_change</th>\n",
       "    </tr>\n",
       "  </thead>\n",
       "  <tbody>\n",
       "    <tr>\n",
       "      <th>0</th>\n",
       "      <td>BSNLF</td>\n",
       "      <td>High</td>\n",
       "      <td>0.026089</td>\n",
       "      <td>1889</td>\n",
       "      <td>0.044261</td>\n",
       "      <td>0.031845</td>\n",
       "      <td>-0.280514</td>\n",
       "    </tr>\n",
       "    <tr>\n",
       "      <th>1</th>\n",
       "      <td>FTA</td>\n",
       "      <td>Medium-Low</td>\n",
       "      <td>38.647291</td>\n",
       "      <td>4457</td>\n",
       "      <td>8.488856</td>\n",
       "      <td>4.376875</td>\n",
       "      <td>-0.484397</td>\n",
       "    </tr>\n",
       "    <tr>\n",
       "      <th>2</th>\n",
       "      <td>JTKWY</td>\n",
       "      <td>Medium-High</td>\n",
       "      <td>9.432196</td>\n",
       "      <td>1226</td>\n",
       "      <td>0.640134</td>\n",
       "      <td>0.565840</td>\n",
       "      <td>-0.116060</td>\n",
       "    </tr>\n",
       "    <tr>\n",
       "      <th>3</th>\n",
       "      <td>FWONB</td>\n",
       "      <td>Medium-Low</td>\n",
       "      <td>46.538264</td>\n",
       "      <td>2016</td>\n",
       "      <td>6.866346</td>\n",
       "      <td>6.854367</td>\n",
       "      <td>-0.001745</td>\n",
       "    </tr>\n",
       "    <tr>\n",
       "      <th>4</th>\n",
       "      <td>VRMMQ</td>\n",
       "      <td>High</td>\n",
       "      <td>1104.577206</td>\n",
       "      <td>1173</td>\n",
       "      <td>116.538527</td>\n",
       "      <td>78.179737</td>\n",
       "      <td>-0.329151</td>\n",
       "    </tr>\n",
       "  </tbody>\n",
       "</table>\n",
       "</div>"
      ],
      "text/plain": [
       "  ticker   volatility    avg_price   len   rmse_base  rmse_tuned  pct_change\n",
       "0  BSNLF         High     0.026089  1889    0.044261    0.031845   -0.280514\n",
       "1    FTA   Medium-Low    38.647291  4457    8.488856    4.376875   -0.484397\n",
       "2  JTKWY  Medium-High     9.432196  1226    0.640134    0.565840   -0.116060\n",
       "3  FWONB   Medium-Low    46.538264  2016    6.866346    6.854367   -0.001745\n",
       "4  VRMMQ         High  1104.577206  1173  116.538527   78.179737   -0.329151"
      ]
     },
     "execution_count": 8,
     "metadata": {},
     "output_type": "execute_result"
    }
   ],
   "source": [
    "df.head()"
   ]
  },
  {
   "cell_type": "code",
   "execution_count": null,
   "metadata": {},
   "outputs": [
    {
     "data": {
      "text/html": [
       "<div>\n",
       "<style scoped>\n",
       "    .dataframe tbody tr th:only-of-type {\n",
       "        vertical-align: middle;\n",
       "    }\n",
       "\n",
       "    .dataframe tbody tr th {\n",
       "        vertical-align: top;\n",
       "    }\n",
       "\n",
       "    .dataframe thead th {\n",
       "        text-align: right;\n",
       "    }\n",
       "</style>\n",
       "<table border=\"1\" class=\"dataframe\">\n",
       "  <thead>\n",
       "    <tr style=\"text-align: right;\">\n",
       "      <th></th>\n",
       "      <th>volatility</th>\n",
       "      <th>pct_change</th>\n",
       "    </tr>\n",
       "  </thead>\n",
       "  <tbody>\n",
       "    <tr>\n",
       "      <th>0</th>\n",
       "      <td>Low</td>\n",
       "      <td>-0.270306</td>\n",
       "    </tr>\n",
       "    <tr>\n",
       "      <th>1</th>\n",
       "      <td>Medium</td>\n",
       "      <td>-0.280984</td>\n",
       "    </tr>\n",
       "    <tr>\n",
       "      <th>2</th>\n",
       "      <td>High</td>\n",
       "      <td>-0.289844</td>\n",
       "    </tr>\n",
       "    <tr>\n",
       "      <th>3</th>\n",
       "      <td>Medium-Low</td>\n",
       "      <td>-0.301053</td>\n",
       "    </tr>\n",
       "    <tr>\n",
       "      <th>4</th>\n",
       "      <td>Medium-High</td>\n",
       "      <td>-0.317196</td>\n",
       "    </tr>\n",
       "  </tbody>\n",
       "</table>\n",
       "</div>"
      ],
      "text/plain": [
       "    volatility  pct_change\n",
       "0          Low   -0.270306\n",
       "1       Medium   -0.280984\n",
       "2         High   -0.289844\n",
       "3   Medium-Low   -0.301053\n",
       "4  Medium-High   -0.317196"
      ]
     },
     "execution_count": 11,
     "metadata": {},
     "output_type": "execute_result"
    }
   ],
   "source": [
    "# Get the average pct_change for each volatility category\n",
    "\n",
    "df.groupby('volatility').agg({'pct_change': 'mean'}).sort_values('pct_change', ascending=False).reset_index()"
   ]
  },
  {
   "cell_type": "markdown",
   "metadata": {},
   "source": [
    "Not conclusively better by category. The model seems to perform 27-32% better than the baseline the same across volatility categories"
   ]
  },
  {
   "cell_type": "code",
   "execution_count": 12,
   "metadata": {},
   "outputs": [
    {
     "data": {
      "text/html": [
       "<div>\n",
       "<style scoped>\n",
       "    .dataframe tbody tr th:only-of-type {\n",
       "        vertical-align: middle;\n",
       "    }\n",
       "\n",
       "    .dataframe tbody tr th {\n",
       "        vertical-align: top;\n",
       "    }\n",
       "\n",
       "    .dataframe thead th {\n",
       "        text-align: right;\n",
       "    }\n",
       "</style>\n",
       "<table border=\"1\" class=\"dataframe\">\n",
       "  <thead>\n",
       "    <tr style=\"text-align: right;\">\n",
       "      <th></th>\n",
       "      <th>volatility</th>\n",
       "      <th>pct_change</th>\n",
       "    </tr>\n",
       "  </thead>\n",
       "  <tbody>\n",
       "    <tr>\n",
       "      <th>0</th>\n",
       "      <td>Medium</td>\n",
       "      <td>0.285393</td>\n",
       "    </tr>\n",
       "    <tr>\n",
       "      <th>1</th>\n",
       "      <td>Medium-High</td>\n",
       "      <td>0.284781</td>\n",
       "    </tr>\n",
       "    <tr>\n",
       "      <th>2</th>\n",
       "      <td>High</td>\n",
       "      <td>0.253618</td>\n",
       "    </tr>\n",
       "    <tr>\n",
       "      <th>3</th>\n",
       "      <td>Medium-Low</td>\n",
       "      <td>0.246572</td>\n",
       "    </tr>\n",
       "    <tr>\n",
       "      <th>4</th>\n",
       "      <td>Low</td>\n",
       "      <td>0.239037</td>\n",
       "    </tr>\n",
       "  </tbody>\n",
       "</table>\n",
       "</div>"
      ],
      "text/plain": [
       "    volatility  pct_change\n",
       "0       Medium    0.285393\n",
       "1  Medium-High    0.284781\n",
       "2         High    0.253618\n",
       "3   Medium-Low    0.246572\n",
       "4          Low    0.239037"
      ]
     },
     "execution_count": 12,
     "metadata": {},
     "output_type": "execute_result"
    }
   ],
   "source": [
    "# Which category had a wider range of pct_change values?\n",
    "\n",
    "df.groupby('volatility').agg({'pct_change': 'std'}).sort_values('pct_change', ascending=False).reset_index()"
   ]
  },
  {
   "cell_type": "code",
   "execution_count": 21,
   "metadata": {},
   "outputs": [
    {
     "data": {
      "image/png": "[encoded data removed]",
      "text/plain": [
       "<Figure size 640x480 with 1 Axes>"
      ]
     },
     "metadata": {},
     "output_type": "display_data"
    }
   ],
   "source": [
    "import seaborn as sns\n",
    "import matplotlib.pyplot as plt\n",
    "\n",
    "# Define the desired order of volatility categories\n",
    "volatility_order = ['High', 'Medium-High', 'Medium', 'Medium-Low', 'Low']\n",
    "\n",
    "# Create the boxplot, specifying the order\n",
    "sns.boxplot(x='volatility', y='pct_change', data=df, order=volatility_order)\n",
    "plt.title('Distribution of Percentage Change by Volatility Category')\n",
    "plt.xlabel('Volatility Category')\n",
    "plt.ylabel('Percentage Change')\n",
    "plt.show()"
   ]
  },
  {
   "cell_type": "code",
   "execution_count": 22,
   "metadata": {},
   "outputs": [
    {
     "data": {
      "text/plain": [
       "-0.2920212327272514"
      ]
     },
     "execution_count": 22,
     "metadata": {},
     "output_type": "execute_result"
    }
   ],
   "source": [
    "# pct change between models across all samples was...\n",
    "\n",
    "df['pct_change'].mean()"
   ]
  },
  {
   "cell_type": "code",
   "execution_count": 23,
   "metadata": {},
   "outputs": [
    {
     "data": {
      "text/plain": [
       "count    149.000000\n",
       "mean      -0.292021\n",
       "std        0.259694\n",
       "min       -0.955344\n",
       "25%       -0.489078\n",
       "50%       -0.260396\n",
       "75%       -0.085044\n",
       "max        0.296587\n",
       "Name: pct_change, dtype: float64"
      ]
     },
     "execution_count": 23,
     "metadata": {},
     "output_type": "execute_result"
    }
   ],
   "source": [
    "df['pct_change'].describe()"
   ]
  },
  {
   "cell_type": "code",
   "execution_count": 26,
   "metadata": {},
   "outputs": [
    {
     "data": {
      "text/html": [
       "<div>\n",
       "<style scoped>\n",
       "    .dataframe tbody tr th:only-of-type {\n",
       "        vertical-align: middle;\n",
       "    }\n",
       "\n",
       "    .dataframe tbody tr th {\n",
       "        vertical-align: top;\n",
       "    }\n",
       "\n",
       "    .dataframe thead th {\n",
       "        text-align: right;\n",
       "    }\n",
       "</style>\n",
       "<table border=\"1\" class=\"dataframe\">\n",
       "  <thead>\n",
       "    <tr style=\"text-align: right;\">\n",
       "      <th></th>\n",
       "      <th>ticker</th>\n",
       "      <th>volatility</th>\n",
       "      <th>avg_price</th>\n",
       "      <th>len</th>\n",
       "      <th>rmse_base</th>\n",
       "      <th>rmse_tuned</th>\n",
       "      <th>pct_change</th>\n",
       "    </tr>\n",
       "  </thead>\n",
       "  <tbody>\n",
       "    <tr>\n",
       "      <th>55</th>\n",
       "      <td>USCTF</td>\n",
       "      <td>High</td>\n",
       "      <td>81.086304</td>\n",
       "      <td>782</td>\n",
       "      <td>31.829700</td>\n",
       "      <td>1.421382</td>\n",
       "      <td>-0.955344</td>\n",
       "    </tr>\n",
       "    <tr>\n",
       "      <th>12</th>\n",
       "      <td>TNSTF</td>\n",
       "      <td>High</td>\n",
       "      <td>-17.926776</td>\n",
       "      <td>1977</td>\n",
       "      <td>29.400329</td>\n",
       "      <td>2.695678</td>\n",
       "      <td>-0.908311</td>\n",
       "    </tr>\n",
       "    <tr>\n",
       "      <th>148</th>\n",
       "      <td>XBIT</td>\n",
       "      <td>Medium-High</td>\n",
       "      <td>8.836452</td>\n",
       "      <td>2471</td>\n",
       "      <td>12.698112</td>\n",
       "      <td>1.871125</td>\n",
       "      <td>-0.852645</td>\n",
       "    </tr>\n",
       "    <tr>\n",
       "      <th>143</th>\n",
       "      <td>EB</td>\n",
       "      <td>Medium-High</td>\n",
       "      <td>13.356536</td>\n",
       "      <td>1605</td>\n",
       "      <td>7.036128</td>\n",
       "      <td>1.270628</td>\n",
       "      <td>-0.819414</td>\n",
       "    </tr>\n",
       "    <tr>\n",
       "      <th>47</th>\n",
       "      <td>HLRD</td>\n",
       "      <td>Medium</td>\n",
       "      <td>472.947625</td>\n",
       "      <td>3110</td>\n",
       "      <td>203.008332</td>\n",
       "      <td>38.210290</td>\n",
       "      <td>-0.811780</td>\n",
       "    </tr>\n",
       "  </tbody>\n",
       "</table>\n",
       "</div>"
      ],
      "text/plain": [
       "    ticker   volatility   avg_price   len   rmse_base  rmse_tuned  pct_change\n",
       "55   USCTF         High   81.086304   782   31.829700    1.421382   -0.955344\n",
       "12   TNSTF         High  -17.926776  1977   29.400329    2.695678   -0.908311\n",
       "148   XBIT  Medium-High    8.836452  2471   12.698112    1.871125   -0.852645\n",
       "143     EB  Medium-High   13.356536  1605    7.036128    1.270628   -0.819414\n",
       "47    HLRD       Medium  472.947625  3110  203.008332   38.210290   -0.811780"
      ]
     },
     "execution_count": 26,
     "metadata": {},
     "output_type": "execute_result"
    }
   ],
   "source": [
    "df.sort_values(by='pct_change').head()"
   ]
  }
 ],
 "metadata": {
  "kernelspec": {
   "display_name": "base",
   "language": "python",
   "name": "python3"
  },
  "language_info": {
   "codemirror_mode": {
    "name": "ipython",
    "version": 3
   },
   "file_extension": ".py",
   "mimetype": "text/x-python",
   "name": "python",
   "nbconvert_exporter": "python",
   "pygments_lexer": "ipython3",
   "version": "3.11.5"
  }
 },
 "nbformat": 4,
 "nbformat_minor": 2
}
